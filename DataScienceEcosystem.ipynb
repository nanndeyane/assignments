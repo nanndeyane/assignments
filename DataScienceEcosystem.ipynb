{
 "cells": [
  {
   "cell_type": "markdown",
   "id": "34ae567d-de4b-4745-9e7a-56c51f28334b",
   "metadata": {
    "tags": []
   },
   "source": [
    "<h1>Data Science Tools and Ecosystem</h1>"
   ]
  },
  {
   "cell_type": "markdown",
   "id": "f3125e09-ce78-4ff5-bc3a-8e37f134cfb4",
   "metadata": {},
   "source": [
    "In this notebook, Data Science Tools and Ecosystem are summarized."
   ]
  },
  {
   "cell_type": "markdown",
   "id": "559b506b-c7f0-47fd-bb14-9b690e3500bf",
   "metadata": {},
   "source": [
    "**Objectives:**\n",
    "\n",
    "- List popular languages for Data Science.\n",
    "- Explore various data science libraries and tools.\n",
    "- Demonstrate data manipulation techniques using Pandas.\n",
    "- Provide examples of data visualization with Matplotlib.\n",
    "- Introduce basic concepts of machine learning with Scikit-learn.\n"
   ]
  },
  {
   "cell_type": "markdown",
   "id": "a20b18a9-1ef9-45df-b543-07bd3bce96d2",
   "metadata": {
    "tags": []
   },
   "source": [
    "Some of the popular languages that Data Scientists use are:"
   ]
  },
  {
   "cell_type": "markdown",
   "id": "270fa1b8-5afd-4b6d-b002-d937c96f7a3e",
   "metadata": {},
   "source": [
    "<ol>\n",
    "        <li>Python</li>\n",
    "        <li>R</li>\n",
    "        <li>Julia</li>\n",
    "    </ol>"
   ]
  },
  {
   "cell_type": "markdown",
   "id": "6104fc3c-f0f4-4b54-885d-2dfa4180b028",
   "metadata": {
    "tags": []
   },
   "source": [
    "Some of the commonly used libraries used by Data Scientists include:\n",
    "<ol>\n",
    "        <li>Pandas</li>\n",
    "        <li>NumPy</li>\n",
    "        <li>Scikit-learn</li>\n",
    "        <li>Matplotlib</li>\n",
    "        <li>TensorFlow</li>\n",
    "    </ol>"
   ]
  },
  {
   "cell_type": "markdown",
   "id": "f640f667-43b1-40b8-bb33-6c4a05831a98",
   "metadata": {},
   "source": [
    "| Data Science Tools |\n",
    "|--------------------|\n",
    "| Jupyter Notebook   |\n",
    "| RStudio            |\n",
    "| Apache Zeppelin    |"
   ]
  },
  {
   "cell_type": "markdown",
   "id": "5eaccd08-421b-43e8-9226-227401ebe8bb",
   "metadata": {
    "tags": []
   },
   "source": [
    "<h3>Below are a few examples of evaluating arithmetic expressions in Python</h3>"
   ]
  },
  {
   "cell_type": "markdown",
   "id": "026a079d-49c4-4456-bf1d-a1d009c83c07",
   "metadata": {},
   "source": [
    "This a simple arithmetic expression to mutiply then add integers"
   ]
  },
  {
   "cell_type": "code",
   "execution_count": 8,
   "id": "74d8cfc1-94b0-47eb-b029-12f560a77a58",
   "metadata": {
    "tags": []
   },
   "outputs": [
    {
     "data": {
      "text/plain": [
       "17"
      ]
     },
     "execution_count": 8,
     "metadata": {},
     "output_type": "execute_result"
    }
   ],
   "source": [
    "(3*4)+5"
   ]
  },
  {
   "cell_type": "markdown",
   "id": "9b6f7081-e305-4f3d-a964-763ba85366ee",
   "metadata": {},
   "source": [
    " This will convert 200 minutes to hours by diving by 60"
   ]
  },
  {
   "cell_type": "code",
   "execution_count": 9,
   "id": "0cb0da2b-47b1-495e-b6ce-17f282f836bb",
   "metadata": {
    "tags": []
   },
   "outputs": [
    {
     "data": {
      "text/plain": [
       "3.3333333333333335"
      ]
     },
     "execution_count": 9,
     "metadata": {},
     "output_type": "execute_result"
    }
   ],
   "source": [
    "200/60"
   ]
  },
  {
   "cell_type": "markdown",
   "id": "7a5ed8c6-19cf-4649-a054-8b934debf501",
   "metadata": {},
   "source": [
    "## Author\n",
    "\n",
    "Reo NARIMARSU\n"
   ]
  },
  {
   "cell_type": "code",
   "execution_count": null,
   "id": "54070179-d6b3-4f4a-9902-b09c8d88039b",
   "metadata": {},
   "outputs": [],
   "source": []
  }
 ],
 "metadata": {
  "kernelspec": {
   "display_name": "Python",
   "language": "python",
   "name": "conda-env-python-py"
  },
  "language_info": {
   "codemirror_mode": {
    "name": "ipython",
    "version": 3
   },
   "file_extension": ".py",
   "mimetype": "text/x-python",
   "name": "python",
   "nbconvert_exporter": "python",
   "pygments_lexer": "ipython3",
   "version": "3.7.12"
  }
 },
 "nbformat": 4,
 "nbformat_minor": 5
}
